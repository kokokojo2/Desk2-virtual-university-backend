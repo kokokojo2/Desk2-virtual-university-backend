{
 "cells": [
  {
   "cell_type": "code",
   "execution_count": 1,
   "id": "5a3a253a-f2c6-40fb-bcb0-b8c41edba044",
   "metadata": {},
   "outputs": [],
   "source": [
    "import subprocess as sc\n",
    "import time\n",
    "import re\n",
    "import requests\n",
    "import json\n",
    "import psycopg2"
   ]
  },
  {
   "cell_type": "code",
   "execution_count": 2,
   "id": "5543c0b5-cca2-41fe-8dd2-192eafaba16a",
   "metadata": {},
   "outputs": [],
   "source": [
    "root_endpoint = \"http://localhost:8000/api/\"\n",
    "auth_endpoint = root_endpoint + 'auth/'\n",
    "course_endpoint = root_endpoint + 'courses/'\n",
    "course_member_endpoint = root_endpoint + '1/course_members/'"
   ]
  },
  {
   "cell_type": "code",
   "execution_count": 3,
   "id": "093d18b8-4f9a-40d2-b3d6-34cbcd4f89b0",
   "metadata": {},
   "outputs": [],
   "source": [
    "def get_logs(tail='50', svc=''):\n",
    "    cmd = ['docker-compose', 'logs', '--no-color', f'--tail={tail}']\n",
    "    if svc:\n",
    "        cmd.append('--no-log-prefix')\n",
    "        cmd.append(svc)\n",
    "    return sc.run(cmd, capture_output=True)"
   ]
  },
  {
   "cell_type": "code",
   "execution_count": 4,
   "id": "9d1a7913-2223-46b4-9804-85056a3de5ca",
   "metadata": {},
   "outputs": [],
   "source": [
    "def poll_logs_until_match(pattern, tail='50', svc='', timeout=30, supress_logs=False):\n",
    "    while timeout > 0:\n",
    "        logs = get_logs(tail=tail, svc=svc).stdout.decode()\n",
    "        matches = re.findall(pattern, logs)\n",
    "        if matches:\n",
    "            return matches\n",
    "        if not supress_logs:\n",
    "            print(f\"Couldn't find a match for pattern '{pattern}'; sleeping...\")\n",
    "        time.sleep(5)\n",
    "        timeout -= 1\n",
    "    return []       "
   ]
  },
  {
   "cell_type": "code",
   "execution_count": 5,
   "id": "7ec2cfcb-06b8-4c30-acd0-af8a9e640104",
   "metadata": {},
   "outputs": [],
   "source": [
    "def get_last_email_token():\n",
    "    email_code_matches = poll_logs_until_match('<h1>\\w+<\\/h1>', svc='desk2-api', timeout=2)\n",
    "    if not email_code_matches:\n",
    "        return None\n",
    "    return email_code_matches[-1][4:-5]"
   ]
  },
  {
   "cell_type": "code",
   "execution_count": 6,
   "id": "e839c0b7-730c-4f6d-ada9-1d6fe5333ba7",
   "metadata": {},
   "outputs": [],
   "source": [
    "def stop_services():\n",
    "    print('Stopping services and exiting...')\n",
    "    sc.run(['docker-compose', 'down'])\n",
    "\n",
    "def start_services():\n",
    "    print(\"Running 'docker-compose up -d postgres'...\")\n",
    "    sc.run(['docker-compose', 'up', '-d', 'postgres'], capture_output=True)\n",
    "    print(\"Running 'docker-compose up -d redis'...\")\n",
    "    sc.run(['docker-compose', 'up', '-d', 'redis'], capture_output=True)\n",
    "    postgres_ready = poll_logs_until_match('database system is ready to accept connections', svc='postgres')\n",
    "    if not postgres_ready:\n",
    "        print(\"Couldn't start postgres\")\n",
    "        stop_services()\n",
    "        return False\n",
    "    \n",
    "    print(\"Running 'docker-compose up -d desk2-api'...\")\n",
    "    sc.run(['docker-compose', 'up', '-d', 'desk2-api'], capture_output=True)\n",
    "    \n",
    "    res = poll_logs_until_match('Starting development server', svc='desk2-api')\n",
    "    if not res:\n",
    "        print(\"ERROR: couldn't start services\")\n",
    "        stop_services()\n",
    "        return False\n",
    "    \n",
    "    unapplied_migrations = poll_logs_until_match('unapplied migration', tail='all', svc='desk2-api', timeout=1, supress_logs=True)\n",
    "    if unapplied_migrations:\n",
    "        print(\"ERROR: couldn't apply migrations\")\n",
    "        stop_services()\n",
    "        return False\n",
    "        \n",
    "    print('Started services')\n",
    "    return True"
   ]
  },
  {
   "cell_type": "code",
   "execution_count": 7,
   "id": "3794fb32-9b32-4c32-b49b-2859015154ec",
   "metadata": {},
   "outputs": [],
   "source": [
    "test_common_data = {\n",
    "    \"passed\": []\n",
    "}"
   ]
  },
  {
   "cell_type": "code",
   "execution_count": 8,
   "id": "0fcd5d53-aba1-43ec-a246-df52e19cef6e",
   "metadata": {},
   "outputs": [],
   "source": [
    "class TestCase:\n",
    "    def __init__(self, name, func, prerequisites_passed=[]):\n",
    "        self.name = name\n",
    "        self.func = func\n",
    "        self.prerequisites_passed = prerequisites_passed\n",
    "        \n",
    "    def run(self):\n",
    "        print(f'Running \"{self.name}\" test scenario...')\n",
    "        try:\n",
    "            prerequisites_failed = [x for x in self.prerequisites_passed if x not in test_common_data[\"passed\"]]\n",
    "            prerequisites_met = len(prerequisites_failed) == 0\n",
    "            if not prerequisites_met:\n",
    "                print(\"Test failed: the following prerequisite tests haven't passed:\")\n",
    "                print(\"\\n\".join(prerequisites_failed))\n",
    "                return False\n",
    "            res = self.func()\n",
    "            if res:\n",
    "                print('Test successful')\n",
    "                test_common_data[\"passed\"].append(self.name)\n",
    "            else:\n",
    "                print('Test failed')\n",
    "            return res\n",
    "        except Exception as e:\n",
    "            print(f'Test failed with an exception:\\n\\t{e}')\n",
    "            return False"
   ]
  },
  {
   "cell_type": "code",
   "execution_count": 9,
   "id": "3062af46-fa23-4d2f-91c1-b1d57ddbc626",
   "metadata": {},
   "outputs": [],
   "source": [
    "def assert_response_code(response, expected_code, action_description):\n",
    "    res = True\n",
    "    if response.status_code != expected_code:\n",
    "        print(f'Expected status code {expected_code} when {action_description}, received', response.status_code)\n",
    "        print(f'Response json:\\n\\t{response.json()}')\n",
    "        res = False\n",
    "    assert res"
   ]
  },
  {
   "cell_type": "code",
   "execution_count": 10,
   "id": "a23251ef-794c-4b14-9234-030dfa9e443d",
   "metadata": {},
   "outputs": [],
   "source": [
    "def populate_test_db():\n",
    "    print('Populating a test database')\n",
    "    try:\n",
    "        conn = psycopg2.connect(\n",
    "            database='university',\n",
    "            user='postgres',\n",
    "            password='postgres',\n",
    "            host='127.0.0.1',\n",
    "            port=5432\n",
    "        )\n",
    "        cur = conn.cursor()\n",
    "        # add faculty\n",
    "        cur.execute('INSERT INTO university_structures_faculty(title, description, abbreviation) VALUES (%s, %s, %s)',\n",
    "                    (\"Institute for Applied System Analysis\", \"The best\", \"IASA\"))\n",
    "\n",
    "        # add department\n",
    "        cur.execute('INSERT INTO university_structures_department(title, description, faculty_id, abbreviation) VALUES (%s, %s, %s, %s)',\n",
    "                    (\"Computed Aided Design\", \"It's ours\", 1, \"CAD\"))\n",
    "\n",
    "        # add specialty\n",
    "        cur.execute('INSERT INTO university_structures_speciality(title, code) VALUES (%s, %s)',\n",
    "                    (\"Computer Science\", 122))\n",
    "\n",
    "        # add group\n",
    "        cur.execute('INSERT INTO university_structures_group(name, study_year, department_id, speciality_id) VALUES (%s, %s, %s, %s)',\n",
    "                    (\"DA-92\", 3, 1, 1))\n",
    "        \n",
    "        # add scientific degree\n",
    "        cur.execute(\"INSERT INTO university_structures_degree(name) VALUES ('PhD')\")\n",
    "        \n",
    "        # add teacher position\n",
    "        cur.execute(\"INSERT INTO university_structures_position(name) VALUES ('TA')\")\n",
    "\n",
    "        conn.commit()\n",
    "    except Exceptionception as e:\n",
    "        print(f\"Failed to populate a database:\\n\\t{e}\")\n",
    "        conn.rollback()\n",
    "        return False\n",
    "    finally:\n",
    "        conn.close()\n",
    "    return True"
   ]
  },
  {
   "cell_type": "code",
   "execution_count": 11,
   "id": "65613061-959e-4663-bd43-7050f63f2b76",
   "metadata": {},
   "outputs": [],
   "source": [
    "def student_registration_should_succeed():\n",
    "    user_registration_obj = {\n",
    "        \"first_name\": \"Yuuichi\",\n",
    "        \"last_name\": \"Onodera\",\n",
    "        \"email\": \"asanoinio@yahoo.com\",\n",
    "        \"profile_type\": \"student\",\n",
    "        \"password\": \"JustAsimplePasasfj1\",\n",
    "        \"email-token\": \"\",\n",
    "        \"department\": 1,\n",
    "        \"group\": 1,\n",
    "        \"student_card_id\": 12345678\n",
    "    }\n",
    "    \n",
    "    email_token_response = requests.post(auth_endpoint + 'token/send-token/email-confirm/', data={\"email\": user_registration_obj[\"email\"]})\n",
    "    assert_response_code(email_token_response, 200, 'asking for an email token')\n",
    "    \n",
    "    time.sleep(2)\n",
    "    \n",
    "    user_registration_obj[\"email-token\"] = get_last_email_token()\n",
    "    user_registration_response = requests.post(auth_endpoint + 'user/', data=json.dumps(user_registration_obj), headers={'content-type': 'application/json'})\n",
    "    assert_response_code(user_registration_response, 201, 'registering a user')\n",
    "    \n",
    "    # asking for a 2FA code\n",
    "    jwt_token_data = {\n",
    "        \"email\": user_registration_obj[\"email\"],\n",
    "        \"password\": user_registration_obj[\"password\"]\n",
    "    }\n",
    "\n",
    "    first_jwt_response = requests.post(auth_endpoint + 'token/obtain/', data=json.dumps(jwt_token_data), headers={'content-type': 'application/json'})\n",
    "    assert_response_code(first_jwt_response, 401, 'asking for a JWT without a 2FA code')\n",
    "    \n",
    "    # using a 2FA code in a JWT request\n",
    "    time.sleep(2)\n",
    "    jwt_token_data['2FA_code'] = get_last_email_token()\n",
    "    second_jwt_response = response = requests.post(auth_endpoint + 'token/obtain/', data=json.dumps(jwt_token_data), headers={'content-type': 'application/json'})\n",
    "    assert_response_code(second_jwt_response, 200, 'asking for a JWT with a 2FA code')\n",
    "    \n",
    "    jwt = response.json()['access']\n",
    "    get_user_response = requests.get(auth_endpoint + 'user/', headers={'Authorization': f'Bearer {jwt}'})\n",
    "    assert_response_code(get_user_response, 200, 'getting a user with JWT')\n",
    "    \n",
    "    test_common_data[\"student_jwt\"] = jwt\n",
    "    test_common_data[\"student_obj\"] = user_registration_obj\n",
    "    \n",
    "    return True"
   ]
  },
  {
   "cell_type": "code",
   "execution_count": 12,
   "id": "532a1d8d-0b68-4ec4-8ec0-604c4fd46941",
   "metadata": {},
   "outputs": [],
   "source": [
    "def teacher_registration_should_succeed():\n",
    "    teacher_registration_object = {\n",
    "        \"first_name\": \"Eikichi\",\n",
    "        \"last_name\": \"Onizuka\",\n",
    "        \"email\": \"tofujisawa@yahoo.com\",\n",
    "        \"profile_type\": \"teacher\",\n",
    "        \"password\": \"__23535somecommonsensE55\",\n",
    "        \"email-token\": \"\",\n",
    "        \"department\": 1,\n",
    "        \"position\": 1,\n",
    "        \"scientific_degree\": 1\n",
    "    }\n",
    "    \n",
    "    email_token_response = requests.post(auth_endpoint + 'token/send-token/email-confirm/', data={\"email\": teacher_registration_object[\"email\"]})\n",
    "    assert_response_code(email_token_response, 200, 'asking for an email token')\n",
    "    \n",
    "    time.sleep(2)\n",
    "    \n",
    "    teacher_registration_object[\"email-token\"] = get_last_email_token()\n",
    "    user_registration_response = requests.post(auth_endpoint + 'user/', data=json.dumps(teacher_registration_object), headers={'content-type': 'application/json'})\n",
    "    assert_response_code(user_registration_response, 201, 'registering a user')\n",
    "    \n",
    "    # asking for a 2FA code\n",
    "    jwt_token_data = {\n",
    "        \"email\": teacher_registration_object[\"email\"],\n",
    "        \"password\": teacher_registration_object[\"password\"]\n",
    "    }\n",
    "\n",
    "    first_jwt_response = requests.post(auth_endpoint + 'token/obtain/', data=json.dumps(jwt_token_data), headers={'content-type': 'application/json'})\n",
    "    assert_response_code(first_jwt_response, 401, 'asking for a JWT without a 2FA code')\n",
    "    \n",
    "    # using a 2FA code in a JWT request\n",
    "    time.sleep(2)\n",
    "    jwt_token_data['2FA_code'] = get_last_email_token()\n",
    "    second_jwt_response = response = requests.post(auth_endpoint + 'token/obtain/', data=json.dumps(jwt_token_data), headers={'content-type': 'application/json'})\n",
    "    assert_response_code(second_jwt_response, 200, 'asking for a JWT with a 2FA code')\n",
    "    \n",
    "    jwt = response.json()['access']\n",
    "    get_user_response = requests.get(auth_endpoint + 'user/', headers={'Authorization': f'Bearer {jwt}'})\n",
    "    assert_response_code(get_user_response, 200, 'getting a user with JWT')\n",
    "    \n",
    "    test_common_data[\"teacher_jwt\"] = jwt\n",
    "    test_common_data[\"teacher_obj\"] = teacher_registration_object\n",
    "    \n",
    "    return True"
   ]
  },
  {
   "cell_type": "code",
   "execution_count": 13,
   "id": "67fab967-e275-4523-af86-4cde2d6445fd",
   "metadata": {
    "tags": []
   },
   "outputs": [],
   "source": [
    "def course_creation_should_succeed():\n",
    "    course_creation_obj = {\n",
    "        \"title\": \"Discrete Maths\",\n",
    "        \"description\": \"Test course lalala\",\n",
    "        \"department\": 1,\n",
    "        \"speciality\": 1\n",
    "    }\n",
    "    \n",
    "    jwt = test_common_data[\"teacher_jwt\"]\n",
    "    course_creation_response = requests.post(course_endpoint, data=json.dumps(course_creation_obj), \n",
    "                                             headers={'content-type': 'application/json', 'Authorization': f'Bearer {jwt}'})\n",
    "    \n",
    "    assert_response_code(course_creation_response, 201, 'creating a course')\n",
    "    \n",
    "    get_courses_response = requests.get(course_endpoint, headers={'Authorization': f'Bearer {jwt}'})\n",
    "    assert_response_code(get_courses_response, 200, 'getting a list of courses')\n",
    "\n",
    "    if not course_creation_response.json() in get_courses_response.json():\n",
    "        print(\"Couldn't find a newly created course among the existing courses\")\n",
    "        return False\n",
    "    \n",
    "    return True"
   ]
  },
  {
   "cell_type": "code",
   "execution_count": 14,
   "id": "6940f550-d399-49a9-b491-538ccfb4a58f",
   "metadata": {},
   "outputs": [],
   "source": [
    "def course_member_addition_should_succeed():\n",
    "    student = test_common_data[\"student_obj\"]\n",
    "    student_jwt = test_common_data[\"student_jwt\"]\n",
    "    member_addition_obj = {\n",
    "        \"email\": student[\"email\"],\n",
    "        \"member_type\": \"student\"\n",
    "    }\n",
    "    \n",
    "    teacher_jwt = test_common_data[\"teacher_jwt\"]\n",
    "    member_addition_response = requests.post(course_member_endpoint + 'add-members/', data=json.dumps(member_addition_obj), \n",
    "                                             headers={'content-type': 'application/json', 'Authorization': f'Bearer {teacher_jwt}'})\n",
    "    \n",
    "    assert_response_code(member_addition_response, 204, 'adding a course member')\n",
    "    \n",
    "    get_course_members_request = requests.get(course_member_endpoint, headers={'Authorization': f'Bearer {teacher_jwt}'})\n",
    "    assert_response_code(get_course_members_request, 200, 'getting course members')\n",
    "\n",
    "    if len(get_course_members_request.json()) < 2:\n",
    "        print(f'Got {len(get_course_members_request.json())} course members, expected at least 2')\n",
    "        return False\n",
    "    \n",
    "    get_enrolled_courses_response = requests.get(course_endpoint + '?enrolled=true', headers={'Authorization': f'Bearer {student_jwt}'})\n",
    "    assert_response_code(get_enrolled_courses_response, 200, 'getting enrolled courses')\n",
    "    \n",
    "    if len(get_enrolled_courses_response.json()) < 1:\n",
    "        print(f'Got {len(get_enrolled_courses_response.json())} enrolled courses, expected at least 1')\n",
    "        return False\n",
    "    \n",
    "    return True"
   ]
  },
  {
   "cell_type": "code",
   "execution_count": 15,
   "id": "8a638cd3-25ce-4798-8f61-f443ce90adb9",
   "metadata": {},
   "outputs": [],
   "source": [
    "test_cases = [\n",
    "    TestCase('Student registration', student_registration_should_succeed),\n",
    "    TestCase('Teacher registration', teacher_registration_should_succeed),\n",
    "    TestCase('Course creation', course_creation_should_succeed, prerequisites_passed=['Teacher registration']),\n",
    "    TestCase('Course member addition', course_member_addition_should_succeed, prerequisites_passed=['Student registration', 'Teacher registration', 'Course creation'])\n",
    "]"
   ]
  },
  {
   "cell_type": "code",
   "execution_count": 16,
   "id": "606fcd08-96cd-4090-af98-f8411fd1f7db",
   "metadata": {},
   "outputs": [],
   "source": [
    "def run_tests(stop_services_at_cleanup=True):\n",
    "    if not start_services():\n",
    "        return\n",
    "    if not populate_test_db():\n",
    "        return\n",
    "    \n",
    "    try:\n",
    "        test_common_data = {\n",
    "            \"passed\": []\n",
    "        }\n",
    "        test_results = [x.run() for x in test_cases]\n",
    "        failed_count = len([x for x in test_results if x == False])\n",
    "        if failed_count:\n",
    "            print(f'Failed {failed_count} out of {len(test_results)} test scenarios!')\n",
    "        else:\n",
    "            print(f'Successfully ran {len(test_results)} test(s)')\n",
    "    except Exception as e:\n",
    "        print(f'Failed. Caught an exception when running test scenarios:\\n\\t{e}')\n",
    "    finally:\n",
    "        if stop_services_at_cleanup:\n",
    "            stop_services()"
   ]
  },
  {
   "cell_type": "code",
   "execution_count": 17,
   "id": "ca38a97f-39fa-479c-8041-7e1af1d612c4",
   "metadata": {},
   "outputs": [
    {
     "name": "stdout",
     "output_type": "stream",
     "text": [
      "Running 'docker-compose up -d postgres'...\n",
      "Running 'docker-compose up -d redis'...\n",
      "Couldn't find a match for pattern 'database system is ready to accept connections'; sleeping...\n",
      "Couldn't find a match for pattern 'database system is ready to accept connections'; sleeping...\n",
      "Couldn't find a match for pattern 'database system is ready to accept connections'; sleeping...\n",
      "Couldn't find a match for pattern 'database system is ready to accept connections'; sleeping...\n",
      "Couldn't find a match for pattern 'database system is ready to accept connections'; sleeping...\n",
      "Running 'docker-compose up -d desk2-api'...\n",
      "Couldn't find a match for pattern 'Starting development server'; sleeping...\n",
      "Couldn't find a match for pattern 'Starting development server'; sleeping...\n",
      "Couldn't find a match for pattern 'Starting development server'; sleeping...\n",
      "Couldn't find a match for pattern 'Starting development server'; sleeping...\n",
      "Started services\n",
      "Populating a test database\n",
      "Running \"Student registration\" test scenario...\n",
      "Test successful\n",
      "Running \"Teacher registration\" test scenario...\n",
      "Test successful\n",
      "Running \"Course creation\" test scenario...\n",
      "Test successful\n",
      "Running \"Course member addition\" test scenario...\n",
      "Test successful\n",
      "Successfully ran 4 test(s)\n",
      "Stopping services and exiting...\n"
     ]
    },
    {
     "name": "stderr",
     "output_type": "stream",
     "text": [
      "Stopping tests_desk2-api_1 ... \n",
      "Stopping tests_redis_1     ... \n",
      "Stopping tests_postgres_1  ... \n",
      "Stopping tests_desk2-api_1 ... done\n",
      "Stopping tests_redis_1     ... done\n",
      "Stopping tests_postgres_1  ... done\n",
      "Removing tests_desk2-api_1 ... \n",
      "Removing tests_redis_1     ... \n",
      "Removing tests_postgres_1  ... \n",
      "Removing tests_redis_1     ... done\n",
      "Removing tests_postgres_1  ... done\n",
      "Removing tests_desk2-api_1 ... done\n",
      "Removing network tests_default\n"
     ]
    }
   ],
   "source": [
    "run_tests(stop_services_at_cleanup=True)"
   ]
  },
  {
   "cell_type": "code",
   "execution_count": 19,
   "id": "b114269c-0c28-463e-96c7-b642f615c8cc",
   "metadata": {},
   "outputs": [],
   "source": [
    "student = test_common_data[\"student_obj\"]\n",
    "student_jwt = test_common_data[\"student_jwt\"]\n",
    "member_addition_obj = {\n",
    "    \"email\": student[\"email\"],\n",
    "    \"member_type\": \"student\"\n",
    "}\n",
    "\n",
    "teacher_jwt = test_common_data[\"teacher_jwt\"]"
   ]
  },
  {
   "cell_type": "code",
   "execution_count": 20,
   "id": "04bba4cf-5aaf-4779-8f12-f38ffa8c57b4",
   "metadata": {},
   "outputs": [],
   "source": [
    "member_addition_response = requests.post(course_member_endpoint + 'add-members/', data=json.dumps(member_addition_obj), \n",
    "                                             headers={'content-type': 'application/json', 'Authorization': f'Bearer {teacher_jwt}'})"
   ]
  },
  {
   "cell_type": "code",
   "execution_count": 23,
   "id": "4419579c-91dc-4ee7-b9e8-459ff79284f9",
   "metadata": {},
   "outputs": [],
   "source": [
    "assert_response_code(member_addition_response, 204, 'adding a course member')"
   ]
  },
  {
   "cell_type": "code",
   "execution_count": 25,
   "id": "41854e0f-bed1-482d-b0c1-bca903a7ea9d",
   "metadata": {},
   "outputs": [],
   "source": [
    "get_course_members_request = requests.get(course_member_endpoint, headers={'Authorization': f'Bearer {teacher_jwt}'})\n",
    "assert_response_code(get_course_members_request, 200, 'getting course members')"
   ]
  },
  {
   "cell_type": "code",
   "execution_count": 26,
   "id": "33f95a3a-e0ac-4896-8c0b-b1022ce849f4",
   "metadata": {},
   "outputs": [
    {
     "data": {
      "text/plain": [
       "[{'id': 2,\n",
       "  'user': {'id': 1,\n",
       "   'first_name': 'Yuuichi',\n",
       "   'last_name': 'Onodera',\n",
       "   'middle_name': ''},\n",
       "  'role': 'student',\n",
       "  'created_at': '2021-12-17T23:21:24.153451Z'},\n",
       " {'id': 1,\n",
       "  'user': {'id': 2,\n",
       "   'first_name': 'Eikichi',\n",
       "   'last_name': 'Onizuka',\n",
       "   'middle_name': ''},\n",
       "  'role': 'teacher',\n",
       "  'created_at': '2021-12-17T23:20:18.823063Z'}]"
      ]
     },
     "execution_count": 26,
     "metadata": {},
     "output_type": "execute_result"
    }
   ],
   "source": [
    "get_course_members_request.json()"
   ]
  },
  {
   "cell_type": "code",
   "execution_count": 30,
   "id": "078dd90a-dc4d-4614-9e79-d028842f0a0f",
   "metadata": {},
   "outputs": [],
   "source": [
    "get_enrolled_courses_response = requests.get(course_endpoint + '?enrolled=true', headers={'Authorization': f'Bearer {student_jwt}'})\n",
    "assert_response_code(get_enrolled_courses_response, 200, 'getting enrolled courses')"
   ]
  },
  {
   "cell_type": "code",
   "execution_count": 32,
   "id": "b4958ba6-6771-478e-9992-489df1196fae",
   "metadata": {},
   "outputs": [
    {
     "data": {
      "text/plain": [
       "[{'id': 1,\n",
       "  'owner': {'id': 2,\n",
       "   'first_name': 'Eikichi',\n",
       "   'last_name': 'Onizuka',\n",
       "   'middle_name': ''},\n",
       "  'title': 'Discrete maths',\n",
       "  'description': 'Test course lalala',\n",
       "  'status': 'O',\n",
       "  'created_at': '2021-12-17T23:20:18.712474Z',\n",
       "  'department': 1,\n",
       "  'speciality': 1}]"
      ]
     },
     "execution_count": 32,
     "metadata": {},
     "output_type": "execute_result"
    }
   ],
   "source": [
    "get_enrolled_courses.json()"
   ]
  },
  {
   "cell_type": "code",
   "execution_count": 35,
   "id": "8b411581-a7ed-4e62-912a-fedd20898126",
   "metadata": {},
   "outputs": [
    {
     "name": "stdout",
     "output_type": "stream",
     "text": [
      "Stopping services and exiting...\n"
     ]
    },
    {
     "name": "stderr",
     "output_type": "stream",
     "text": [
      "Stopping tests_desk2-api_1 ... \n",
      "Stopping tests_redis_1     ... \n",
      "Stopping tests_postgres_1  ... \n",
      "Stopping tests_desk2-api_1 ... done\n",
      "Stopping tests_redis_1     ... done\n",
      "Stopping tests_postgres_1  ... done\n",
      "Removing tests_desk2-api_1 ... \n",
      "Removing tests_redis_1     ... \n",
      "Removing tests_postgres_1  ... \n",
      "Removing tests_redis_1     ... done\n",
      "Removing tests_postgres_1  ... done\n",
      "Removing tests_desk2-api_1 ... done\n",
      "Removing network tests_default\n"
     ]
    }
   ],
   "source": [
    "stop_services()"
   ]
  },
  {
   "cell_type": "code",
   "execution_count": null,
   "id": "be3d441b-2b36-43f1-9c3e-a41d4597d5f1",
   "metadata": {},
   "outputs": [],
   "source": []
  }
 ],
 "metadata": {
  "kernelspec": {
   "display_name": "Python 3 (ipykernel)",
   "language": "python",
   "name": "python3"
  },
  "language_info": {
   "codemirror_mode": {
    "name": "ipython",
    "version": 3
   },
   "file_extension": ".py",
   "mimetype": "text/x-python",
   "name": "python",
   "nbconvert_exporter": "python",
   "pygments_lexer": "ipython3",
   "version": "3.9.7"
  }
 },
 "nbformat": 4,
 "nbformat_minor": 5
}
