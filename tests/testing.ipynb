{
 "cells": [
  {
   "cell_type": "code",
   "execution_count": 1,
   "id": "5a3a253a-f2c6-40fb-bcb0-b8c41edba044",
   "metadata": {},
   "outputs": [],
   "source": [
    "import subprocess as sc\n",
    "import time\n",
    "import re\n",
    "import requests\n",
    "import json\n",
    "import psycopg2"
   ]
  },
  {
   "cell_type": "code",
   "execution_count": 2,
   "id": "5543c0b5-cca2-41fe-8dd2-192eafaba16a",
   "metadata": {},
   "outputs": [],
   "source": [
    "root_endpoint = \"http://localhost:8000/api/\"\n",
    "auth_endpoint = root_endpoint + 'auth/'\n",
    "course_endpoint = root_endpoint + 'courses/'\n",
    "course_member_endpoint = root_endpoint + '1/course_members/'\n",
    "chapter_endpoint = root_endpoint + '1/chapters/'\n",
    "material_endpoint = root_endpoint + '1/1/materials/'\n",
    "task_endpoint = root_endpoint + '1/1/tasks/'\n",
    "student_work_endpoint = root_endpoint + '1/1/tasks/1/student-works/'\n",
    "submit_endpoint = student_work_endpoint + '1/submit/'\n",
    "grades_endpoint = root_endpoint + '1/grades/'"
   ]
  },
  {
   "cell_type": "code",
   "execution_count": 3,
   "id": "093d18b8-4f9a-40d2-b3d6-34cbcd4f89b0",
   "metadata": {},
   "outputs": [],
   "source": [
    "def get_logs(tail='50', svc=''):\n",
    "    cmd = ['docker-compose', 'logs', '--no-color', f'--tail={tail}']\n",
    "    if svc:\n",
    "        cmd.append('--no-log-prefix')\n",
    "        cmd.append(svc)\n",
    "    return sc.run(cmd, capture_output=True)"
   ]
  },
  {
   "cell_type": "code",
   "execution_count": 4,
   "id": "9d1a7913-2223-46b4-9804-85056a3de5ca",
   "metadata": {},
   "outputs": [],
   "source": [
    "def poll_logs_until_match(pattern, tail='50', svc='', timeout=30, supress_logs=False):\n",
    "    while timeout > 0:\n",
    "        logs = get_logs(tail=tail, svc=svc).stdout.decode()\n",
    "        matches = re.findall(pattern, logs)\n",
    "        if matches:\n",
    "            return matches\n",
    "        if not supress_logs:\n",
    "            print(f\"Couldn't find a match for pattern '{pattern}'; sleeping...\")\n",
    "        time.sleep(5)\n",
    "        timeout -= 1\n",
    "    return []       "
   ]
  },
  {
   "cell_type": "code",
   "execution_count": 5,
   "id": "7ec2cfcb-06b8-4c30-acd0-af8a9e640104",
   "metadata": {},
   "outputs": [],
   "source": [
    "def get_last_email_token():\n",
    "    email_code_matches = poll_logs_until_match('<h1>\\w+<\\/h1>', svc='desk2-api', timeout=2)\n",
    "    if not email_code_matches:\n",
    "        return None\n",
    "    return email_code_matches[-1][4:-5]"
   ]
  },
  {
   "cell_type": "code",
   "execution_count": 6,
   "id": "e839c0b7-730c-4f6d-ada9-1d6fe5333ba7",
   "metadata": {},
   "outputs": [],
   "source": [
    "def stop_services():\n",
    "    print('Stopping services and exiting...')\n",
    "    sc.run(['docker-compose', 'down'])\n",
    "\n",
    "def start_services():\n",
    "    print(\"Running 'docker-compose up -d postgres'...\")\n",
    "    sc.run(['docker-compose', 'up', '-d', 'postgres'], capture_output=True)\n",
    "    print(\"Running 'docker-compose up -d redis'...\")\n",
    "    sc.run(['docker-compose', 'up', '-d', 'redis'], capture_output=True)\n",
    "    postgres_ready = poll_logs_until_match('database system is ready to accept connections', svc='postgres')\n",
    "    if not postgres_ready:\n",
    "        print(\"Couldn't start postgres\")\n",
    "        stop_services()\n",
    "        return False\n",
    "    \n",
    "    print(\"Running 'docker-compose up -d desk2-api'...\")\n",
    "    sc.run(['docker-compose', 'up', '-d', 'desk2-api'], capture_output=True)\n",
    "    \n",
    "    res = poll_logs_until_match('Starting development server', svc='desk2-api')\n",
    "    if not res:\n",
    "        print(\"ERROR: couldn't start services\")\n",
    "        stop_services()\n",
    "        return False\n",
    "    \n",
    "    unapplied_migrations = poll_logs_until_match('unapplied migration', tail='all', svc='desk2-api', timeout=1, supress_logs=True)\n",
    "    if unapplied_migrations:\n",
    "        print(\"ERROR: couldn't apply migrations\")\n",
    "        stop_services()\n",
    "        return False\n",
    "        \n",
    "    print('Started services')\n",
    "    return True"
   ]
  },
  {
   "cell_type": "code",
   "execution_count": 7,
   "id": "3794fb32-9b32-4c32-b49b-2859015154ec",
   "metadata": {},
   "outputs": [],
   "source": [
    "test_common_data = {\n",
    "    \"passed\": []\n",
    "}"
   ]
  },
  {
   "cell_type": "code",
   "execution_count": 8,
   "id": "0fcd5d53-aba1-43ec-a246-df52e19cef6e",
   "metadata": {},
   "outputs": [],
   "source": [
    "class TestCase:\n",
    "    def __init__(self, name, func, prerequisites_passed=[]):\n",
    "        self.name = name\n",
    "        self.func = func\n",
    "        self.prerequisites_passed = prerequisites_passed\n",
    "        \n",
    "    def run(self):\n",
    "        print(f'Running \"{self.name}\" test scenario...')\n",
    "        try:\n",
    "            prerequisites_failed = [x for x in self.prerequisites_passed if x not in test_common_data[\"passed\"]]\n",
    "            prerequisites_met = len(prerequisites_failed) == 0\n",
    "            if not prerequisites_met:\n",
    "                print(\"Test failed: the following prerequisite tests haven't passed:\")\n",
    "                print(\"\\n\".join(prerequisites_failed))\n",
    "                return False\n",
    "            res = self.func()\n",
    "            if res:\n",
    "                print('Test successful')\n",
    "                test_common_data[\"passed\"].append(self.name)\n",
    "            else:\n",
    "                print('Test failed')\n",
    "            return res\n",
    "        except Exception as e:\n",
    "            print(f'Test failed with an exception:\\n\\t{e}')\n",
    "            return False"
   ]
  },
  {
   "cell_type": "code",
   "execution_count": 9,
   "id": "3062af46-fa23-4d2f-91c1-b1d57ddbc626",
   "metadata": {},
   "outputs": [],
   "source": [
    "def assert_response_code(response, expected_code, action_description):\n",
    "    res = True\n",
    "    if response.status_code != expected_code:\n",
    "        print(f'Expected status code {expected_code} when {action_description}, received', response.status_code)\n",
    "        print(f'Response json:\\n\\t{response.json()}')\n",
    "        res = False\n",
    "    assert res"
   ]
  },
  {
   "cell_type": "code",
   "execution_count": 10,
   "id": "a23251ef-794c-4b14-9234-030dfa9e443d",
   "metadata": {},
   "outputs": [],
   "source": [
    "def populate_test_db():\n",
    "    print('Populating a test database')\n",
    "    try:\n",
    "        conn = psycopg2.connect(\n",
    "            database='university',\n",
    "            user='postgres',\n",
    "            password='postgres',\n",
    "            host='127.0.0.1',\n",
    "            port=5432\n",
    "        )\n",
    "        cur = conn.cursor()\n",
    "        # add faculty\n",
    "        cur.execute('INSERT INTO university_structures_faculty(title, description, abbreviation) VALUES (%s, %s, %s)',\n",
    "                    (\"Institute for Applied System Analysis\", \"The best\", \"IASA\"))\n",
    "\n",
    "        # add department\n",
    "        cur.execute('INSERT INTO university_structures_department(title, description, faculty_id, abbreviation) VALUES (%s, %s, %s, %s)',\n",
    "                    (\"Computed Aided Design\", \"It's ours\", 1, \"CAD\"))\n",
    "\n",
    "        # add specialty\n",
    "        cur.execute('INSERT INTO university_structures_speciality(title, code) VALUES (%s, %s)',\n",
    "                    (\"Computer Science\", 122))\n",
    "\n",
    "        # add group\n",
    "        cur.execute('INSERT INTO university_structures_group(name, study_year, department_id, speciality_id) VALUES (%s, %s, %s, %s)',\n",
    "                    (\"DA-92\", 3, 1, 1))\n",
    "        \n",
    "        # add scientific degree\n",
    "        cur.execute(\"INSERT INTO university_structures_degree(name) VALUES ('PhD')\")\n",
    "        \n",
    "        # add teacher position\n",
    "        cur.execute(\"INSERT INTO university_structures_position(name) VALUES ('TA')\")\n",
    "\n",
    "        conn.commit()\n",
    "    except Exceptionception as e:\n",
    "        print(f\"Failed to populate a database:\\n\\t{e}\")\n",
    "        conn.rollback()\n",
    "        return False\n",
    "    finally:\n",
    "        conn.close()\n",
    "    return True"
   ]
  },
  {
   "cell_type": "code",
   "execution_count": 11,
   "id": "65613061-959e-4663-bd43-7050f63f2b76",
   "metadata": {},
   "outputs": [],
   "source": [
    "def student_registration_should_succeed():\n",
    "    user_registration_obj = {\n",
    "        \"first_name\": \"Yuuichi\",\n",
    "        \"last_name\": \"Onodera\",\n",
    "        \"email\": \"asanoinio@yahoo.com\",\n",
    "        \"profile_type\": \"student\",\n",
    "        \"password\": \"JustAsimplePasasfj1\",\n",
    "        \"email-token\": \"\",\n",
    "        \"department\": 1,\n",
    "        \"group\": 1,\n",
    "        \"student_card_id\": 12345678\n",
    "    }\n",
    "    \n",
    "    email_token_response = requests.post(auth_endpoint + 'token/send-token/email-confirm/', data={\"email\": user_registration_obj[\"email\"]})\n",
    "    assert_response_code(email_token_response, 200, 'asking for an email token')\n",
    "    \n",
    "    time.sleep(2)\n",
    "    \n",
    "    user_registration_obj[\"email-token\"] = get_last_email_token()\n",
    "    user_registration_response = requests.post(auth_endpoint + 'user/', data=json.dumps(user_registration_obj), headers={'content-type': 'application/json'})\n",
    "    assert_response_code(user_registration_response, 201, 'registering a user')\n",
    "    \n",
    "    # asking for a 2FA code\n",
    "    jwt_token_data = {\n",
    "        \"email\": user_registration_obj[\"email\"],\n",
    "        \"password\": user_registration_obj[\"password\"]\n",
    "    }\n",
    "\n",
    "    first_jwt_response = requests.post(auth_endpoint + 'token/obtain/', data=json.dumps(jwt_token_data), headers={'content-type': 'application/json'})\n",
    "    assert_response_code(first_jwt_response, 401, 'asking for a JWT without a 2FA code')\n",
    "    \n",
    "    # using a 2FA code in a JWT request\n",
    "    time.sleep(2)\n",
    "    jwt_token_data['2FA_code'] = get_last_email_token()\n",
    "    second_jwt_response = response = requests.post(auth_endpoint + 'token/obtain/', data=json.dumps(jwt_token_data), headers={'content-type': 'application/json'})\n",
    "    assert_response_code(second_jwt_response, 200, 'asking for a JWT with a 2FA code')\n",
    "    \n",
    "    jwt = response.json()['access']\n",
    "    get_user_response = requests.get(auth_endpoint + 'user/', headers={'Authorization': f'Bearer {jwt}'})\n",
    "    assert_response_code(get_user_response, 200, 'getting a user with JWT')\n",
    "    \n",
    "    test_common_data[\"student_jwt\"] = jwt\n",
    "    test_common_data[\"student_obj\"] = user_registration_obj\n",
    "    \n",
    "    return True"
   ]
  },
  {
   "cell_type": "code",
   "execution_count": 12,
   "id": "532a1d8d-0b68-4ec4-8ec0-604c4fd46941",
   "metadata": {},
   "outputs": [],
   "source": [
    "def teacher_registration_should_succeed():\n",
    "    teacher_registration_object = {\n",
    "        \"first_name\": \"Eikichi\",\n",
    "        \"last_name\": \"Onizuka\",\n",
    "        \"email\": \"tofujisawa@yahoo.com\",\n",
    "        \"profile_type\": \"teacher\",\n",
    "        \"password\": \"__23535somecommonsensE55\",\n",
    "        \"email-token\": \"\",\n",
    "        \"department\": 1,\n",
    "        \"position\": 1,\n",
    "        \"scientific_degree\": 1\n",
    "    }\n",
    "    \n",
    "    email_token_response = requests.post(auth_endpoint + 'token/send-token/email-confirm/', data={\"email\": teacher_registration_object[\"email\"]})\n",
    "    assert_response_code(email_token_response, 200, 'asking for an email token')\n",
    "    \n",
    "    time.sleep(2)\n",
    "    \n",
    "    teacher_registration_object[\"email-token\"] = get_last_email_token()\n",
    "    user_registration_response = requests.post(auth_endpoint + 'user/', data=json.dumps(teacher_registration_object), headers={'content-type': 'application/json'})\n",
    "    assert_response_code(user_registration_response, 201, 'registering a user')\n",
    "    \n",
    "    # asking for a 2FA code\n",
    "    jwt_token_data = {\n",
    "        \"email\": teacher_registration_object[\"email\"],\n",
    "        \"password\": teacher_registration_object[\"password\"]\n",
    "    }\n",
    "\n",
    "    first_jwt_response = requests.post(auth_endpoint + 'token/obtain/', data=json.dumps(jwt_token_data), headers={'content-type': 'application/json'})\n",
    "    assert_response_code(first_jwt_response, 401, 'asking for a JWT without a 2FA code')\n",
    "    \n",
    "    # using a 2FA code in a JWT request\n",
    "    time.sleep(2)\n",
    "    jwt_token_data['2FA_code'] = get_last_email_token()\n",
    "    second_jwt_response = response = requests.post(auth_endpoint + 'token/obtain/', data=json.dumps(jwt_token_data), headers={'content-type': 'application/json'})\n",
    "    assert_response_code(second_jwt_response, 200, 'asking for a JWT with a 2FA code')\n",
    "    \n",
    "    jwt = response.json()['access']\n",
    "    get_user_response = requests.get(auth_endpoint + 'user/', headers={'Authorization': f'Bearer {jwt}'})\n",
    "    assert_response_code(get_user_response, 200, 'getting a user with JWT')\n",
    "    \n",
    "    test_common_data[\"teacher_jwt\"] = jwt\n",
    "    test_common_data[\"teacher_obj\"] = teacher_registration_object\n",
    "    \n",
    "    return True"
   ]
  },
  {
   "cell_type": "code",
   "execution_count": 13,
   "id": "67fab967-e275-4523-af86-4cde2d6445fd",
   "metadata": {
    "tags": []
   },
   "outputs": [],
   "source": [
    "def course_creation_should_succeed():\n",
    "    course_creation_obj = {\n",
    "        \"title\": \"Discrete Maths\",\n",
    "        \"description\": \"Test course lalala\",\n",
    "        \"department\": 1,\n",
    "        \"speciality\": 1\n",
    "    }\n",
    "    \n",
    "    jwt = test_common_data[\"teacher_jwt\"]\n",
    "    course_creation_response = requests.post(course_endpoint, data=json.dumps(course_creation_obj), \n",
    "                                             headers={'content-type': 'application/json', 'Authorization': f'Bearer {jwt}'})\n",
    "    \n",
    "    assert_response_code(course_creation_response, 201, 'creating a course')\n",
    "    \n",
    "    get_courses_response = requests.get(course_endpoint, headers={'Authorization': f'Bearer {jwt}'})\n",
    "    assert_response_code(get_courses_response, 200, 'getting a list of courses')\n",
    "\n",
    "    if not course_creation_response.json() in get_courses_response.json():\n",
    "        print(\"Couldn't find a newly created course among the existing courses\")\n",
    "        return False\n",
    "    \n",
    "    return True"
   ]
  },
  {
   "cell_type": "code",
   "execution_count": 14,
   "id": "6940f550-d399-49a9-b491-538ccfb4a58f",
   "metadata": {},
   "outputs": [],
   "source": [
    "def course_member_addition_should_succeed():\n",
    "    student = test_common_data[\"student_obj\"]\n",
    "    student_jwt = test_common_data[\"student_jwt\"]\n",
    "    member_addition_obj = {\n",
    "        \"email\": student[\"email\"],\n",
    "        \"member_type\": \"student\"\n",
    "    }\n",
    "    \n",
    "    teacher_jwt = test_common_data[\"teacher_jwt\"]\n",
    "    member_addition_response = requests.post(course_member_endpoint + 'add-members/', data=json.dumps(member_addition_obj), \n",
    "                                             headers={'content-type': 'application/json', 'Authorization': f'Bearer {teacher_jwt}'})\n",
    "    \n",
    "    assert_response_code(member_addition_response, 204, 'adding a course member')\n",
    "    \n",
    "    get_course_members_request = requests.get(course_member_endpoint, headers={'Authorization': f'Bearer {teacher_jwt}'})\n",
    "    assert_response_code(get_course_members_request, 200, 'getting course members')\n",
    "\n",
    "    if len(get_course_members_request.json()) < 2:\n",
    "        print(f'Got {len(get_course_members_request.json())} course members, expected at least 2')\n",
    "        return False\n",
    "    \n",
    "    get_enrolled_courses_response = requests.get(course_endpoint + '?enrolled=true', headers={'Authorization': f'Bearer {student_jwt}'})\n",
    "    assert_response_code(get_enrolled_courses_response, 200, 'getting enrolled courses')\n",
    "    \n",
    "    if len(get_enrolled_courses_response.json()) < 1:\n",
    "        print(f'Got {len(get_enrolled_courses_response.json())} enrolled courses, expected at least 1')\n",
    "        return False\n",
    "    \n",
    "    return True"
   ]
  },
  {
   "cell_type": "code",
   "execution_count": 15,
   "id": "d0725ca0-683f-469f-8fab-74962c7814c7",
   "metadata": {},
   "outputs": [],
   "source": [
    "def chapter_addition_should_succeed():\n",
    "    chapter_creation_obj = {\n",
    "        \"title\": \"Boolean Algebra\",\n",
    "        \"description\": \"Boolean algebra is the branch of algebra in which the values of the variables are the truth values true and false, usually denoted 1 and 0\",\n",
    "        \"course\": 1\n",
    "    }\n",
    "\n",
    "    teacher_jwt = test_common_data[\"teacher_jwt\"]\n",
    "    chapter_creation_response = requests.post(chapter_endpoint, data=json.dumps(chapter_creation_obj), \n",
    "                                             headers={'content-type': 'application/json', 'Authorization': f'Bearer {teacher_jwt}'})\n",
    "\n",
    "    assert_response_code(chapter_creation_response, 201, 'creating a chapter')\n",
    "    \n",
    "    return True"
   ]
  },
  {
   "cell_type": "code",
   "execution_count": 16,
   "id": "52a6edbc-db11-4f6c-a103-5d6043b56bf5",
   "metadata": {},
   "outputs": [],
   "source": [
    "def material_addition_should_succeed():\n",
    "    material_creation_obj = {\n",
    "        \"title\": \"Унарні та бінарні операції\",\n",
    "        \"body\": \"A & B\",\n",
    "        \"created_at\": \"2021-11-18T10:08:00.631458Z\",\n",
    "        \"edited_at\": \"2021-11-18T10:08:00.631458Z\",\n",
    "        \"published_at\": \"2021-11-06T18:01:54.826418Z\"\n",
    "    }\n",
    "\n",
    "    teacher_jwt = test_common_data[\"teacher_jwt\"]\n",
    "    material_creation_response = requests.post(material_endpoint, data=json.dumps(material_creation_obj), \n",
    "                                             headers={'content-type': 'application/json', 'Authorization': f'Bearer {teacher_jwt}'})\n",
    "\n",
    "    assert_response_code(material_creation_response, 201, 'adding a material')\n",
    "    \n",
    "    return True"
   ]
  },
  {
   "cell_type": "code",
   "execution_count": 17,
   "id": "e7e21c42-365c-433b-9b75-9e5850f83ec6",
   "metadata": {},
   "outputs": [],
   "source": [
    "def task_creation_should_succeed():\n",
    "    task_creation_obj = {\n",
    "        \"title\": \"Proove 4 axioms of boolean algebra using the truth table\",\n",
    "        \"body\": \"Not hard at all\",\n",
    "        \"published_at\": \"2021-11-06T18:01:54.826418Z\",\n",
    "        \"deadline\": \"2021-11-06T18:01:54.826418Z\",\n",
    "        \"max_grade\": 5\n",
    "    }\n",
    "\n",
    "    teacher_jwt = test_common_data[\"teacher_jwt\"]\n",
    "    task_creation_response = requests.post(task_endpoint, data=json.dumps(task_creation_obj), \n",
    "                                             headers={'content-type': 'application/json', 'Authorization': f'Bearer {teacher_jwt}'})\n",
    "\n",
    "    assert_response_code(task_creation_response, 201, 'adding a task')\n",
    "    \n",
    "    return True"
   ]
  },
  {
   "cell_type": "code",
   "execution_count": 18,
   "id": "a9a219ee-3bd5-4ba5-8ffe-fe728806aa4a",
   "metadata": {},
   "outputs": [],
   "source": [
    "def student_work_creation_and_submission_should_succeed():\n",
    "    student_work_creation_obj = {\n",
    "        \"answer\": \"I wrote a script to do that, lol\"\n",
    "    }\n",
    "    student_jwt = test_common_data[\"student_jwt\"]\n",
    "    \n",
    "    student_work_creation_response = requests.post(student_work_endpoint, data=json.dumps(student_work_creation_obj), \n",
    "                                             headers={'content-type': 'application/json', 'Authorization': f'Bearer {student_jwt}'})\n",
    "\n",
    "    assert_response_code(student_work_creation_response, 201, 'creating a student work')\n",
    "    \n",
    "    submit_student_work_response = requests.post(submit_endpoint, headers={'Authorization': f'Bearer {student_jwt}'})\n",
    "    assert_response_code(student_work_creation_response, 201, 'submitting a student work')\n",
    "    \n",
    "    return True"
   ]
  },
  {
   "cell_type": "code",
   "execution_count": 19,
   "id": "7d5a75ea-20e8-4377-8693-044979e32834",
   "metadata": {},
   "outputs": [],
   "source": [
    "def student_work_grading_should_succeed():\n",
    "    grade_creation_object = {\n",
    "        \"amount\": 4,\n",
    "        \"work\": 1\n",
    "    }\n",
    "\n",
    "    teacher_jwt = test_common_data[\"teacher_jwt\"]\n",
    "    grade_creation_response = requests.post(grades_endpoint, data=json.dumps(grade_creation_object), \n",
    "                                             headers={'content-type': 'application/json', 'Authorization': f'Bearer {teacher_jwt}'})\n",
    "\n",
    "    assert_response_code(grade_creation_response, 201, 'grading a student work')\n",
    "    \n",
    "    student_jwt = test_common_data[\"student_jwt\"]\n",
    "    get_grades_response = requests.get(grades_endpoint, headers={'Authorization': f'Bearer {student_jwt}'})\n",
    "    if not any([x[\"work\"] == 1 for x in get_grades_response.json()]):\n",
    "        print(\"Student couldn't see a grade for his work\")\n",
    "        return False\n",
    "    \n",
    "    return True"
   ]
  },
  {
   "cell_type": "code",
   "execution_count": 20,
   "id": "8a638cd3-25ce-4798-8f61-f443ce90adb9",
   "metadata": {},
   "outputs": [],
   "source": [
    "test_cases = [\n",
    "    TestCase('Student registration', student_registration_should_succeed),\n",
    "    TestCase('Teacher registration', teacher_registration_should_succeed),\n",
    "    TestCase('Course creation', course_creation_should_succeed, prerequisites_passed=['Teacher registration']),\n",
    "    TestCase('Course member addition', course_member_addition_should_succeed, prerequisites_passed=['Student registration', 'Course creation']),\n",
    "    TestCase('Chapter creation', chapter_addition_should_succeed, prerequisites_passed=['Course creation']),\n",
    "    TestCase('Material addition', material_addition_should_succeed, prerequisites_passed=['Chapter creation']),\n",
    "    TestCase('Task creation', task_creation_should_succeed, prerequisites_passed=['Chapter creation']),\n",
    "    TestCase('Student work submission', student_work_creation_and_submission_should_succeed, prerequisites_passed=['Task creation', 'Course member addition']),\n",
    "    TestCase('Student work grading', student_work_grading_should_succeed, prerequisites_passed=['Student work submission'])\n",
    "]"
   ]
  },
  {
   "cell_type": "code",
   "execution_count": 21,
   "id": "606fcd08-96cd-4090-af98-f8411fd1f7db",
   "metadata": {},
   "outputs": [],
   "source": [
    "def run_tests(stop_services_at_cleanup=True):\n",
    "    if not start_services():\n",
    "        return\n",
    "    if not populate_test_db():\n",
    "        return\n",
    "    \n",
    "    try:\n",
    "        test_common_data = {\n",
    "            \"passed\": []\n",
    "        }\n",
    "        test_results = [x.run() for x in test_cases]\n",
    "        failed_count = len([x for x in test_results if x == False])\n",
    "        if failed_count:\n",
    "            print(f'Failed {failed_count} out of {len(test_results)} test scenarios!')\n",
    "        else:\n",
    "            print(f'Successfully ran {len(test_results)} test(s)')\n",
    "    except Exception as e:\n",
    "        print(f'Failed. Caught an exception when running test scenarios:\\n\\t{e}')\n",
    "    finally:\n",
    "        if stop_services_at_cleanup:\n",
    "            stop_services()"
   ]
  },
  {
   "cell_type": "code",
   "execution_count": 24,
   "id": "ca38a97f-39fa-479c-8041-7e1af1d612c4",
   "metadata": {},
   "outputs": [
    {
     "name": "stdout",
     "output_type": "stream",
     "text": [
      "Running 'docker-compose up -d postgres'...\n",
      "Running 'docker-compose up -d redis'...\n",
      "Couldn't find a match for pattern 'database system is ready to accept connections'; sleeping...\n",
      "Running 'docker-compose up -d desk2-api'...\n",
      "Couldn't find a match for pattern 'Starting development server'; sleeping...\n",
      "Couldn't find a match for pattern 'Starting development server'; sleeping...\n",
      "Couldn't find a match for pattern 'Starting development server'; sleeping...\n",
      "Couldn't find a match for pattern 'Starting development server'; sleeping...\n",
      "Started services\n",
      "Populating a test database\n",
      "Running \"Student registration\" test scenario...\n",
      "Test successful\n",
      "Running \"Teacher registration\" test scenario...\n",
      "Test successful\n",
      "Running \"Course creation\" test scenario...\n",
      "Test successful\n",
      "Running \"Course member addition\" test scenario...\n",
      "Test successful\n",
      "Running \"Chapter creation\" test scenario...\n",
      "Test successful\n",
      "Running \"Material addition\" test scenario...\n",
      "Test successful\n",
      "Running \"Task creation\" test scenario...\n",
      "Test successful\n",
      "Running \"Student work submission\" test scenario...\n",
      "Test successful\n",
      "Running \"Student work grading\" test scenario...\n",
      "Test successful\n",
      "Successfully ran 9 test(s)\n",
      "Stopping services and exiting...\n"
     ]
    },
    {
     "name": "stderr",
     "output_type": "stream",
     "text": [
      "Stopping tests_desk2-api_1 ... \n",
      "Stopping tests_redis_1     ... \n",
      "Stopping tests_postgres_1  ... \n",
      "Stopping tests_desk2-api_1 ... done\n",
      "Stopping tests_redis_1     ... done\n",
      "Stopping tests_postgres_1  ... done\n",
      "Removing tests_desk2-api_1 ... \n",
      "Removing tests_redis_1     ... \n",
      "Removing tests_postgres_1  ... \n",
      "Removing tests_redis_1     ... done\n",
      "Removing tests_postgres_1  ... done\n",
      "Removing tests_desk2-api_1 ... done\n",
      "Removing network tests_default\n"
     ]
    }
   ],
   "source": [
    "run_tests(stop_services_at_cleanup=True)"
   ]
  },
  {
   "cell_type": "code",
   "execution_count": 25,
   "id": "d96fed32-044c-4a5f-ad11-530f162c8f95",
   "metadata": {},
   "outputs": [],
   "source": [
    "task_creation_obj = {\n",
    "    \"title\": \"Proove 4 axioms of boolean algebra using the truth table\",\n",
    "    \"body\": \"Not hard at all\",\n",
    "    \"published_at\": \"2021-11-06T18:01:54.826418Z\",\n",
    "    \"deadline\": \"2021-11-06T18:01:54.826418Z\",\n",
    "    \"max_grade\": 5\n",
    "}\n",
    "\n",
    "teacher_jwt = test_common_data[\"teacher_jwt\"]\n",
    "task_creation_response = requests.post(task_endpoint, data=json.dumps(task_creation_obj), \n",
    "                                         headers={'content-type': 'application/json', 'Authorization': f'Bearer {teacher_jwt}'})\n",
    "\n",
    "assert_response_code(task_creation_response, 201, 'adding a task')"
   ]
  },
  {
   "cell_type": "code",
   "execution_count": 26,
   "id": "6344bbb8-6cf3-4f5f-8d53-5905d2a519da",
   "metadata": {},
   "outputs": [
    {
     "data": {
      "text/plain": [
       "{'id': 1,\n",
       " 'title': 'Proove 4 axioms of boolean algebra using the truth table',\n",
       " 'body': 'Not hard at all',\n",
       " 'created_at': '2021-12-18T16:28:46.123943Z',\n",
       " 'edited_at': '2021-12-18T16:28:46.123964Z',\n",
       " 'published_at': '2021-11-06T18:01:54.826418Z',\n",
       " 'is_archived': False,\n",
       " 'is_planned': False,\n",
       " 'chapter': 1,\n",
       " 'author': {'id': 1,\n",
       "  'user': {'id': 2,\n",
       "   'first_name': 'Eikichi',\n",
       "   'last_name': 'Onizuka',\n",
       "   'middle_name': ''},\n",
       "  'role': 'teacher',\n",
       "  'created_at': '2021-12-18T16:28:18.241593Z'},\n",
       " 'attachment_set': [],\n",
       " 'deadline': '2021-11-06T18:01:54.826418Z',\n",
       " 'max_grade': 5,\n",
       " 'deadline_passed': True}"
      ]
     },
     "execution_count": 26,
     "metadata": {},
     "output_type": "execute_result"
    }
   ],
   "source": [
    "task_creation_response.json()"
   ]
  },
  {
   "cell_type": "code",
   "execution_count": 27,
   "id": "23f222d9-5bb2-4c60-84b3-011d2f65464b",
   "metadata": {},
   "outputs": [],
   "source": [
    "student_work_creation_obj = {\n",
    "    \"answer\": \"I wrote a script to do that, lol\"\n",
    "}\n",
    "\n",
    "student_jwt = test_common_data[\"student_jwt\"]\n",
    "student_work_creation_response = requests.post(student_work_endpoint, data=json.dumps(student_work_creation_obj), \n",
    "                                         headers={'content-type': 'application/json', 'Authorization': f'Bearer {student_jwt}'})\n",
    "\n",
    "assert_response_code(student_work_creation_response, 201, 'creating a student work')"
   ]
  },
  {
   "cell_type": "code",
   "execution_count": 28,
   "id": "7c00d6ff-cb09-4a65-933a-640cb4fd4112",
   "metadata": {},
   "outputs": [
    {
     "data": {
      "text/plain": [
       "{'id': 1,\n",
       " 'owner': {'id': 2,\n",
       "  'user': {'id': 1,\n",
       "   'first_name': 'Yuuichi',\n",
       "   'last_name': 'Onodera',\n",
       "   'middle_name': ''},\n",
       "  'role': 'student',\n",
       "  'created_at': '2021-12-18T16:28:18.369619Z'},\n",
       " 'attachment_set': [],\n",
       " 'grade': None,\n",
       " 'status': 'A',\n",
       " 'answer': 'I wrote a script to do that, lol',\n",
       " 'submitted_at': None,\n",
       " 'task': 1}"
      ]
     },
     "execution_count": 28,
     "metadata": {},
     "output_type": "execute_result"
    }
   ],
   "source": [
    "student_work_creation_response.json()"
   ]
  },
  {
   "cell_type": "code",
   "execution_count": 31,
   "id": "d0fbf4e7-1188-48ac-a7bf-014826488d0d",
   "metadata": {},
   "outputs": [],
   "source": [
    "submit_student_work_response = requests.post(submit_endpoint, headers={'Authorization': f'Bearer {student_jwt}'})\n",
    "\n",
    "assert_response_code(student_work_creation_response, 200, 'submitting a student work')"
   ]
  },
  {
   "cell_type": "code",
   "execution_count": 33,
   "id": "a6f3f135-6224-47f4-8748-5c65fae9b21f",
   "metadata": {},
   "outputs": [
    {
     "data": {
      "text/plain": [
       "{'id': 1,\n",
       " 'owner': {'id': 2,\n",
       "  'user': {'id': 1,\n",
       "   'first_name': 'Yuuichi',\n",
       "   'last_name': 'Onodera',\n",
       "   'middle_name': ''},\n",
       "  'role': 'student',\n",
       "  'created_at': '2021-12-18T16:28:18.369619Z'},\n",
       " 'attachment_set': [],\n",
       " 'grade': None,\n",
       " 'status': 'S',\n",
       " 'answer': 'I wrote a script to do that, lol',\n",
       " 'submitted_at': '2021-12-18T16:38:02.833174Z',\n",
       " 'task': 1}"
      ]
     },
     "execution_count": 33,
     "metadata": {},
     "output_type": "execute_result"
    }
   ],
   "source": [
    "submit_student_work_response.json()"
   ]
  },
  {
   "cell_type": "code",
   "execution_count": 34,
   "id": "1e439158-5728-418e-b23d-9ff4b1526ed0",
   "metadata": {},
   "outputs": [],
   "source": [
    "grade_creation_object = {\n",
    "    \"amount\": 4,\n",
    "    \"work\": 1\n",
    "}\n",
    "\n",
    "teacher_jwt = test_common_data[\"teacher_jwt\"]\n",
    "grade_creation_response = requests.post(grades_endpoint, data=json.dumps(grade_creation_object), \n",
    "                                         headers={'content-type': 'application/json', 'Authorization': f'Bearer {teacher_jwt}'})\n",
    "\n",
    "assert_response_code(grade_creation_response, 201, 'grading a student work')"
   ]
  },
  {
   "cell_type": "code",
   "execution_count": 35,
   "id": "eef43f7e-f04f-4d1e-ac32-367d275f7cf6",
   "metadata": {},
   "outputs": [],
   "source": [
    "get_grades_response = requests.get(grades_endpoint, headers={'Authorization': f'Bearer {student_jwt}'})"
   ]
  },
  {
   "cell_type": "code",
   "execution_count": 38,
   "id": "b2a73b68-0350-42e1-a247-cd5190e60970",
   "metadata": {},
   "outputs": [
    {
     "data": {
      "text/plain": [
       "True"
      ]
     },
     "execution_count": 38,
     "metadata": {},
     "output_type": "execute_result"
    }
   ],
   "source": [
    "any([x[\"work\"] == 1 for x in get_grades_response.json()])"
   ]
  },
  {
   "cell_type": "code",
   "execution_count": 23,
   "id": "1dadf134-c628-4c64-836e-9c60fb3eae38",
   "metadata": {},
   "outputs": [
    {
     "name": "stdout",
     "output_type": "stream",
     "text": [
      "Stopping services and exiting...\n"
     ]
    },
    {
     "name": "stderr",
     "output_type": "stream",
     "text": [
      "Removing tests_postgres_1 ... \n",
      "Removing tests_postgres_1 ... done\n",
      "Removing network tests_default\n"
     ]
    }
   ],
   "source": [
    "stop_services()"
   ]
  },
  {
   "cell_type": "code",
   "execution_count": null,
   "id": "e1668d9b-3f2a-4e35-b374-9b0033ba886f",
   "metadata": {},
   "outputs": [],
   "source": []
  }
 ],
 "metadata": {
  "kernelspec": {
   "display_name": "Python 3 (ipykernel)",
   "language": "python",
   "name": "python3"
  },
  "language_info": {
   "codemirror_mode": {
    "name": "ipython",
    "version": 3
   },
   "file_extension": ".py",
   "mimetype": "text/x-python",
   "name": "python",
   "nbconvert_exporter": "python",
   "pygments_lexer": "ipython3",
   "version": "3.9.7"
  }
 },
 "nbformat": 4,
 "nbformat_minor": 5
}
