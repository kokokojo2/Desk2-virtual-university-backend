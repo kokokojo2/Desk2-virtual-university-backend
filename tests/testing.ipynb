{
 "cells": [
  {
   "cell_type": "code",
   "execution_count": 65,
   "id": "5a3a253a-f2c6-40fb-bcb0-b8c41edba044",
   "metadata": {},
   "outputs": [],
   "source": [
    "import subprocess as sc\n",
    "import time\n",
    "import re\n",
    "import requests"
   ]
  },
  {
   "cell_type": "code",
   "execution_count": 83,
   "id": "5543c0b5-cca2-41fe-8dd2-192eafaba16a",
   "metadata": {},
   "outputs": [],
   "source": [
    "root_endpoint = \"http://localhost:8000/\"\n",
    "auth_endpoint = root_endpoint + 'api/auth/'"
   ]
  },
  {
   "cell_type": "code",
   "execution_count": 89,
   "id": "093d18b8-4f9a-40d2-b3d6-34cbcd4f89b0",
   "metadata": {},
   "outputs": [],
   "source": [
    "def get_logs(tail='50', svc=''):\n",
    "    cmd = ['docker-compose', 'logs', '--no-color', f'--tail={tail}']\n",
    "    if svc:\n",
    "        cmd.append('--no-log-prefix')\n",
    "        cmd.append(svc)\n",
    "    return sc.run(cmd, capture_output=True)"
   ]
  },
  {
   "cell_type": "code",
   "execution_count": 43,
   "id": "39fb1884-1ab5-4c74-b012-abeb3964705c",
   "metadata": {},
   "outputs": [
    {
     "data": {
      "text/plain": [
       "['Starting development server at http://0.0.0.0:8000/']"
      ]
     },
     "execution_count": 43,
     "metadata": {},
     "output_type": "execute_result"
    }
   ],
   "source": [
    "logs = get_logs('desk2-api')\n",
    "re.findall('Starting development server at http://0.0.0.0:8000/', logs.stdout.decode())"
   ]
  },
  {
   "cell_type": "code",
   "execution_count": 96,
   "id": "9d1a7913-2223-46b4-9804-85056a3de5ca",
   "metadata": {},
   "outputs": [],
   "source": [
    "def poll_logs_until_match(pattern, tail='50', svc='', timeout=30):\n",
    "    while timeout > 0:\n",
    "        logs = get_logs(tail=tail, svc=svc).stdout.decode()\n",
    "        matches = re.findall(pattern, logs)\n",
    "        if matches:\n",
    "            return matches\n",
    "        print(f\"couldn't get a match for pattern '{pattern}'; sleeping...\")\n",
    "        time.sleep(5)\n",
    "        timeout -= 1\n",
    "    return []       "
   ]
  },
  {
   "cell_type": "code",
   "execution_count": 56,
   "id": "8d3c1099-f2c8-4980-a44f-41d5082d4743",
   "metadata": {},
   "outputs": [
    {
     "data": {
      "text/plain": [
       "['Starting']"
      ]
     },
     "execution_count": 56,
     "metadata": {},
     "output_type": "execute_result"
    }
   ],
   "source": [
    "poll_logs_until_match('Starting', 'desk2-api')"
   ]
  },
  {
   "cell_type": "code",
   "execution_count": 108,
   "id": "e839c0b7-730c-4f6d-ada9-1d6fe5333ba7",
   "metadata": {},
   "outputs": [],
   "source": [
    "def stop_services():\n",
    "    print('stopping services and exiting...')\n",
    "    sc.run(['docker-compose', 'down'])\n",
    "\n",
    "def start_services():\n",
    "    print(\"running 'docker-compose up -d postgres'...\")\n",
    "    sc.run(['docker-compose', 'up', '-d', 'postgres'], capture_output=True)\n",
    "    print(\"running 'docker-compose up -d redis'...\")\n",
    "    sc.run(['docker-compose', 'up', '-d', 'redis'], capture_output=True)\n",
    "    postgres_ready = poll_logs_until_match('database system is ready to accept connections', svc='postgres')\n",
    "    if not postgres_ready:\n",
    "        print(\"couldn't start postgres\")\n",
    "        stop_services()\n",
    "        return False\n",
    "    \n",
    "    print(\"running 'docker-compose up -d desk2-api'...\")\n",
    "    sc.run(['docker-compose', 'up', '-d', 'desk2-api'], capture_output=True)\n",
    "    \n",
    "    res = poll_logs_until_match('Starting development server', svc='desk2-api')\n",
    "    if not res:\n",
    "        print(\"ERROR: couldn't start services\")\n",
    "        stop_services()\n",
    "        return False\n",
    "    \n",
    "    unapplied_migrations = poll_logs_until_match('unapplied migration', tail='all', svc='desk2-api', timeout=1)\n",
    "    if unapplied_migrations:\n",
    "        print(\"ERROR: couldn't apply migrations\")\n",
    "        stop_services()\n",
    "        success = False\n",
    "        \n",
    "    print('started services')"
   ]
  },
  {
   "cell_type": "code",
   "execution_count": 114,
   "id": "de52ff2f-41e3-4b90-bd53-66c18a1e14c5",
   "metadata": {},
   "outputs": [
    {
     "name": "stdout",
     "output_type": "stream",
     "text": [
      "running 'docker-compose up -d postgres'...\n",
      "running 'docker-compose up -d redis'...\n",
      "couldn't get a match for pattern 'database system is ready to accept connections'; sleeping...\n",
      "couldn't get a match for pattern 'database system is ready to accept connections'; sleeping...\n",
      "couldn't get a match for pattern 'database system is ready to accept connections'; sleeping...\n",
      "couldn't get a match for pattern 'database system is ready to accept connections'; sleeping...\n",
      "couldn't get a match for pattern 'database system is ready to accept connections'; sleeping...\n",
      "couldn't get a match for pattern 'database system is ready to accept connections'; sleeping...\n",
      "running 'docker-compose up -d desk2-api'...\n",
      "couldn't get a match for pattern 'Starting development server'; sleeping...\n",
      "ERROR: couldn't apply migrations\n",
      "stopping services and exiting...\n"
     ]
    },
    {
     "name": "stderr",
     "output_type": "stream",
     "text": [
      "Stopping tests_desk2-api_1 ... \n",
      "Stopping tests_redis_1     ... \n",
      "Stopping tests_postgres_1  ... \n",
      "Stopping tests_desk2-api_1 ... done\n",
      "Stopping tests_redis_1     ... done\n",
      "Stopping tests_postgres_1  ... done\n",
      "Removing tests_desk2-api_1 ... \n",
      "Removing tests_redis_1     ... \n",
      "Removing tests_postgres_1  ... \n",
      "Removing tests_redis_1     ... done\n",
      "Removing tests_postgres_1  ... done\n",
      "Removing tests_desk2-api_1 ... done\n",
      "Removing network tests_default\n"
     ]
    },
    {
     "name": "stdout",
     "output_type": "stream",
     "text": [
      "started services\n"
     ]
    }
   ],
   "source": [
    "start_services()"
   ]
  },
  {
   "cell_type": "code",
   "execution_count": 84,
   "id": "18ff65e1-20e5-4596-818c-4cf1bf70d9c5",
   "metadata": {},
   "outputs": [
    {
     "data": {
      "text/plain": [
       "<Response [401]>"
      ]
     },
     "execution_count": 84,
     "metadata": {},
     "output_type": "execute_result"
    }
   ],
   "source": [
    "requests.get(auth_endpoint + 'user/')"
   ]
  },
  {
   "cell_type": "code",
   "execution_count": 80,
   "id": "84f815f1-b60b-4c3a-99cf-c315f8b7f581",
   "metadata": {},
   "outputs": [],
   "source": [
    "user_registration_obj = {\n",
    "    \"first_name\": \"name\",\n",
    "    \"last_name\": \"last_name\",\n",
    "    \"middle_name\": \"middle_name\",\n",
    "    \"email\": \"randomemail@gmail.com\",\n",
    "    \"password\": \"opa_Wasm1112233\",\n",
    "    \"profile_type\": \"student\",\n",
    "    \"student_card_id\": \"12345678\"\n",
    "}\n",
    "response = requests.post(auth_endpoint + 'user/', data=user_registration_obj)"
   ]
  },
  {
   "cell_type": "code",
   "execution_count": 82,
   "id": "1263250b-9965-48f3-85fe-dcfab36699ce",
   "metadata": {},
   "outputs": [
    {
     "data": {
      "text/plain": [
       "{'email-token': 'This field is required.'}"
      ]
     },
     "execution_count": 82,
     "metadata": {},
     "output_type": "execute_result"
    }
   ],
   "source": [
    "response.json()"
   ]
  },
  {
   "cell_type": "code",
   "execution_count": 111,
   "id": "f18daa49-e4ff-42e6-a547-eb95fbf465a4",
   "metadata": {},
   "outputs": [],
   "source": [
    "response = requests.post(auth_endpoint + 'token/send-token/email-confirm/', data={\"email\": \"randomemail@gmail.com\"})"
   ]
  },
  {
   "cell_type": "code",
   "execution_count": 112,
   "id": "a8e7bfea-e03d-43b4-b77a-ff198983e649",
   "metadata": {},
   "outputs": [
    {
     "data": {
      "text/plain": [
       "<Response [200]>"
      ]
     },
     "execution_count": 112,
     "metadata": {},
     "output_type": "execute_result"
    }
   ],
   "source": [
    "response"
   ]
  },
  {
   "cell_type": "code",
   "execution_count": null,
   "id": "d015b0ef-c7f3-4ea2-a36a-4d8c433b5b23",
   "metadata": {},
   "outputs": [],
   "source": []
  }
 ],
 "metadata": {
  "kernelspec": {
   "display_name": "Python 3 (ipykernel)",
   "language": "python",
   "name": "python3"
  },
  "language_info": {
   "codemirror_mode": {
    "name": "ipython",
    "version": 3
   },
   "file_extension": ".py",
   "mimetype": "text/x-python",
   "name": "python",
   "nbconvert_exporter": "python",
   "pygments_lexer": "ipython3",
   "version": "3.9.7"
  }
 },
 "nbformat": 4,
 "nbformat_minor": 5
}
